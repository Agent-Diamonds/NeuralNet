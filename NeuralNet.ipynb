{
 "cells": [
  {
   "cell_type": "code",
   "execution_count": 1,
   "id": "f2160503",
   "metadata": {},
   "outputs": [],
   "source": [
    "##imports\n",
    "import pandas as pd\n",
    "import numpy as np\n",
    "import cupy as cp\n",
    "import gzip\n",
    "import matplotlib.pyplot as plt"
   ]
  },
  {
   "cell_type": "code",
   "execution_count": 2,
   "id": "04d77241",
   "metadata": {},
   "outputs": [],
   "source": [
    "def create_df_from_file(images_file_path, labels_file_path):\n",
    "    images_file = gzip.open(images_file_path,'r')\n",
    "    labels_file = gzip.open(labels_file_path,'r')\n",
    "    \n",
    "    buf = images_file.read(4)\n",
    "    # verifying 'magic number' at beginning of file, to ensure we are reading properly\n",
    "    dt = np.dtype(int) #define the magic number datatype as np.int32\n",
    "    dt = dt.newbyteorder('>') #ensure numpy interprets the data in big endian format per the data docs\n",
    "    if np.frombuffer(buf, dtype=dt) != 2051: #read the magic number from the images file - docs say it should be 2051\n",
    "        print(\"Magic number did not match\")\n",
    "        images_file.close()\n",
    "        labels_file.close()\n",
    "        return None\n",
    "    buf = labels_file.read(4)\n",
    "    if np.frombuffer(buf, dtype=dt) != 2049: #read the magic number from the labels file - docs say it should be 2049\n",
    "        print(\"Magic number did not match\")\n",
    "        images_file.close()\n",
    "        labels_file.close()\n",
    "        return None\n",
    "    \n",
    "    #The next value in each file should be the number of images\n",
    "    buf = images_file.read(4)\n",
    "    num_images = np.frombuffer(buf, dtype=dt)[0]\n",
    "    buf = labels_file.read(4)\n",
    "    if num_images != np.frombuffer(buf, dtype=dt)[0]:\n",
    "        print(\"File image counts aren't matching\")\n",
    "        images_file.close()\n",
    "        labels_file.close()\n",
    "        return None\n",
    "    \n",
    "    #next two values in images file should be num rows/cols per image\n",
    "    buf = images_file.read(4)\n",
    "    num_rows = np.frombuffer(buf, dtype=dt)[0]\n",
    "    buf = images_file.read(4)\n",
    "    num_cols = np.frombuffer(buf, dtype=dt)[0]\n",
    "    if num_cols != 28 or num_rows != 28:\n",
    "        print(\"Row and/or Column count not matching expected value\")\n",
    "        images_file.close()\n",
    "        labels_file.close()\n",
    "        return None\n",
    "\n",
    "    labels = []\n",
    "    image_dict = {}\n",
    "    #set datatype for pixels/labels, should be 1 byte, per the docs\n",
    "    dt = np.dtype(np.uint8)\n",
    "    dt = dt.newbyteorder('>') #ensure proper endianness\n",
    "    #iterate across all images\n",
    "    for i in range(num_images):\n",
    "        buf = images_file.read(num_rows * num_cols)\n",
    "        image_dict[i] = np.frombuffer(buf, dtype=dt).astype(np.uint32).flatten() / 255\n",
    "        #get the label for the image\n",
    "        buf = labels_file.read(1)\n",
    "        labels.append(np.frombuffer(buf, dtype=dt).astype(np.uint32)[0])\n",
    "    #close up our files\n",
    "    images_file.close()\n",
    "    labels_file.close()\n",
    "    \n",
    "    #make the df\n",
    "    df = pd.DataFrame.from_dict(image_dict, orient='index')\n",
    "    df['labels'] = labels\n",
    "    return df\n",
    "\n",
    "def show_number(df, index, class_label='labels', row_size=28, col_size=28):\n",
    "    plt.imshow(np.asarray(df.drop(class_label, axis=1).iloc[index]).reshape(row_size,col_size))"
   ]
  },
  {
   "cell_type": "code",
   "execution_count": 3,
   "id": "47521281",
   "metadata": {},
   "outputs": [
    {
     "data": {
      "text/html": [
       "<div>\n",
       "<style scoped>\n",
       "    .dataframe tbody tr th:only-of-type {\n",
       "        vertical-align: middle;\n",
       "    }\n",
       "\n",
       "    .dataframe tbody tr th {\n",
       "        vertical-align: top;\n",
       "    }\n",
       "\n",
       "    .dataframe thead th {\n",
       "        text-align: right;\n",
       "    }\n",
       "</style>\n",
       "<table border=\"1\" class=\"dataframe\">\n",
       "  <thead>\n",
       "    <tr style=\"text-align: right;\">\n",
       "      <th></th>\n",
       "      <th>0</th>\n",
       "      <th>1</th>\n",
       "      <th>2</th>\n",
       "      <th>3</th>\n",
       "      <th>4</th>\n",
       "      <th>5</th>\n",
       "      <th>6</th>\n",
       "      <th>7</th>\n",
       "      <th>8</th>\n",
       "      <th>9</th>\n",
       "      <th>...</th>\n",
       "      <th>775</th>\n",
       "      <th>776</th>\n",
       "      <th>777</th>\n",
       "      <th>778</th>\n",
       "      <th>779</th>\n",
       "      <th>780</th>\n",
       "      <th>781</th>\n",
       "      <th>782</th>\n",
       "      <th>783</th>\n",
       "      <th>labels</th>\n",
       "    </tr>\n",
       "  </thead>\n",
       "  <tbody>\n",
       "    <tr>\n",
       "      <th>0</th>\n",
       "      <td>0.0</td>\n",
       "      <td>0.0</td>\n",
       "      <td>0.0</td>\n",
       "      <td>0.0</td>\n",
       "      <td>0.0</td>\n",
       "      <td>0.0</td>\n",
       "      <td>0.0</td>\n",
       "      <td>0.0</td>\n",
       "      <td>0.0</td>\n",
       "      <td>0.0</td>\n",
       "      <td>...</td>\n",
       "      <td>0.0</td>\n",
       "      <td>0.0</td>\n",
       "      <td>0.0</td>\n",
       "      <td>0.0</td>\n",
       "      <td>0.0</td>\n",
       "      <td>0.0</td>\n",
       "      <td>0.0</td>\n",
       "      <td>0.0</td>\n",
       "      <td>0.0</td>\n",
       "      <td>7</td>\n",
       "    </tr>\n",
       "    <tr>\n",
       "      <th>1</th>\n",
       "      <td>0.0</td>\n",
       "      <td>0.0</td>\n",
       "      <td>0.0</td>\n",
       "      <td>0.0</td>\n",
       "      <td>0.0</td>\n",
       "      <td>0.0</td>\n",
       "      <td>0.0</td>\n",
       "      <td>0.0</td>\n",
       "      <td>0.0</td>\n",
       "      <td>0.0</td>\n",
       "      <td>...</td>\n",
       "      <td>0.0</td>\n",
       "      <td>0.0</td>\n",
       "      <td>0.0</td>\n",
       "      <td>0.0</td>\n",
       "      <td>0.0</td>\n",
       "      <td>0.0</td>\n",
       "      <td>0.0</td>\n",
       "      <td>0.0</td>\n",
       "      <td>0.0</td>\n",
       "      <td>2</td>\n",
       "    </tr>\n",
       "    <tr>\n",
       "      <th>2</th>\n",
       "      <td>0.0</td>\n",
       "      <td>0.0</td>\n",
       "      <td>0.0</td>\n",
       "      <td>0.0</td>\n",
       "      <td>0.0</td>\n",
       "      <td>0.0</td>\n",
       "      <td>0.0</td>\n",
       "      <td>0.0</td>\n",
       "      <td>0.0</td>\n",
       "      <td>0.0</td>\n",
       "      <td>...</td>\n",
       "      <td>0.0</td>\n",
       "      <td>0.0</td>\n",
       "      <td>0.0</td>\n",
       "      <td>0.0</td>\n",
       "      <td>0.0</td>\n",
       "      <td>0.0</td>\n",
       "      <td>0.0</td>\n",
       "      <td>0.0</td>\n",
       "      <td>0.0</td>\n",
       "      <td>1</td>\n",
       "    </tr>\n",
       "    <tr>\n",
       "      <th>3</th>\n",
       "      <td>0.0</td>\n",
       "      <td>0.0</td>\n",
       "      <td>0.0</td>\n",
       "      <td>0.0</td>\n",
       "      <td>0.0</td>\n",
       "      <td>0.0</td>\n",
       "      <td>0.0</td>\n",
       "      <td>0.0</td>\n",
       "      <td>0.0</td>\n",
       "      <td>0.0</td>\n",
       "      <td>...</td>\n",
       "      <td>0.0</td>\n",
       "      <td>0.0</td>\n",
       "      <td>0.0</td>\n",
       "      <td>0.0</td>\n",
       "      <td>0.0</td>\n",
       "      <td>0.0</td>\n",
       "      <td>0.0</td>\n",
       "      <td>0.0</td>\n",
       "      <td>0.0</td>\n",
       "      <td>0</td>\n",
       "    </tr>\n",
       "    <tr>\n",
       "      <th>4</th>\n",
       "      <td>0.0</td>\n",
       "      <td>0.0</td>\n",
       "      <td>0.0</td>\n",
       "      <td>0.0</td>\n",
       "      <td>0.0</td>\n",
       "      <td>0.0</td>\n",
       "      <td>0.0</td>\n",
       "      <td>0.0</td>\n",
       "      <td>0.0</td>\n",
       "      <td>0.0</td>\n",
       "      <td>...</td>\n",
       "      <td>0.0</td>\n",
       "      <td>0.0</td>\n",
       "      <td>0.0</td>\n",
       "      <td>0.0</td>\n",
       "      <td>0.0</td>\n",
       "      <td>0.0</td>\n",
       "      <td>0.0</td>\n",
       "      <td>0.0</td>\n",
       "      <td>0.0</td>\n",
       "      <td>4</td>\n",
       "    </tr>\n",
       "  </tbody>\n",
       "</table>\n",
       "<p>5 rows × 785 columns</p>\n",
       "</div>"
      ],
      "text/plain": [
       "     0    1    2    3    4    5    6    7    8    9  ...  775  776  777  778  \\\n",
       "0  0.0  0.0  0.0  0.0  0.0  0.0  0.0  0.0  0.0  0.0  ...  0.0  0.0  0.0  0.0   \n",
       "1  0.0  0.0  0.0  0.0  0.0  0.0  0.0  0.0  0.0  0.0  ...  0.0  0.0  0.0  0.0   \n",
       "2  0.0  0.0  0.0  0.0  0.0  0.0  0.0  0.0  0.0  0.0  ...  0.0  0.0  0.0  0.0   \n",
       "3  0.0  0.0  0.0  0.0  0.0  0.0  0.0  0.0  0.0  0.0  ...  0.0  0.0  0.0  0.0   \n",
       "4  0.0  0.0  0.0  0.0  0.0  0.0  0.0  0.0  0.0  0.0  ...  0.0  0.0  0.0  0.0   \n",
       "\n",
       "   779  780  781  782  783  labels  \n",
       "0  0.0  0.0  0.0  0.0  0.0       7  \n",
       "1  0.0  0.0  0.0  0.0  0.0       2  \n",
       "2  0.0  0.0  0.0  0.0  0.0       1  \n",
       "3  0.0  0.0  0.0  0.0  0.0       0  \n",
       "4  0.0  0.0  0.0  0.0  0.0       4  \n",
       "\n",
       "[5 rows x 785 columns]"
      ]
     },
     "execution_count": 3,
     "metadata": {},
     "output_type": "execute_result"
    }
   ],
   "source": [
    "df_test  = create_df_from_file('test-images-idx3-ubyte.gz', 'test-labels-idx1-ubyte.gz')\n",
    "df_test.head()"
   ]
  },
  {
   "cell_type": "code",
   "execution_count": 4,
   "id": "ca13f265",
   "metadata": {},
   "outputs": [
    {
     "data": {
      "text/html": [
       "<div>\n",
       "<style scoped>\n",
       "    .dataframe tbody tr th:only-of-type {\n",
       "        vertical-align: middle;\n",
       "    }\n",
       "\n",
       "    .dataframe tbody tr th {\n",
       "        vertical-align: top;\n",
       "    }\n",
       "\n",
       "    .dataframe thead th {\n",
       "        text-align: right;\n",
       "    }\n",
       "</style>\n",
       "<table border=\"1\" class=\"dataframe\">\n",
       "  <thead>\n",
       "    <tr style=\"text-align: right;\">\n",
       "      <th></th>\n",
       "      <th>0</th>\n",
       "      <th>1</th>\n",
       "      <th>2</th>\n",
       "      <th>3</th>\n",
       "      <th>4</th>\n",
       "      <th>5</th>\n",
       "      <th>6</th>\n",
       "      <th>7</th>\n",
       "      <th>8</th>\n",
       "      <th>9</th>\n",
       "      <th>...</th>\n",
       "      <th>775</th>\n",
       "      <th>776</th>\n",
       "      <th>777</th>\n",
       "      <th>778</th>\n",
       "      <th>779</th>\n",
       "      <th>780</th>\n",
       "      <th>781</th>\n",
       "      <th>782</th>\n",
       "      <th>783</th>\n",
       "      <th>labels</th>\n",
       "    </tr>\n",
       "  </thead>\n",
       "  <tbody>\n",
       "    <tr>\n",
       "      <th>0</th>\n",
       "      <td>0.0</td>\n",
       "      <td>0.0</td>\n",
       "      <td>0.0</td>\n",
       "      <td>0.0</td>\n",
       "      <td>0.0</td>\n",
       "      <td>0.0</td>\n",
       "      <td>0.0</td>\n",
       "      <td>0.0</td>\n",
       "      <td>0.0</td>\n",
       "      <td>0.0</td>\n",
       "      <td>...</td>\n",
       "      <td>0.0</td>\n",
       "      <td>0.0</td>\n",
       "      <td>0.0</td>\n",
       "      <td>0.0</td>\n",
       "      <td>0.0</td>\n",
       "      <td>0.0</td>\n",
       "      <td>0.0</td>\n",
       "      <td>0.0</td>\n",
       "      <td>0.0</td>\n",
       "      <td>5</td>\n",
       "    </tr>\n",
       "    <tr>\n",
       "      <th>1</th>\n",
       "      <td>0.0</td>\n",
       "      <td>0.0</td>\n",
       "      <td>0.0</td>\n",
       "      <td>0.0</td>\n",
       "      <td>0.0</td>\n",
       "      <td>0.0</td>\n",
       "      <td>0.0</td>\n",
       "      <td>0.0</td>\n",
       "      <td>0.0</td>\n",
       "      <td>0.0</td>\n",
       "      <td>...</td>\n",
       "      <td>0.0</td>\n",
       "      <td>0.0</td>\n",
       "      <td>0.0</td>\n",
       "      <td>0.0</td>\n",
       "      <td>0.0</td>\n",
       "      <td>0.0</td>\n",
       "      <td>0.0</td>\n",
       "      <td>0.0</td>\n",
       "      <td>0.0</td>\n",
       "      <td>0</td>\n",
       "    </tr>\n",
       "    <tr>\n",
       "      <th>2</th>\n",
       "      <td>0.0</td>\n",
       "      <td>0.0</td>\n",
       "      <td>0.0</td>\n",
       "      <td>0.0</td>\n",
       "      <td>0.0</td>\n",
       "      <td>0.0</td>\n",
       "      <td>0.0</td>\n",
       "      <td>0.0</td>\n",
       "      <td>0.0</td>\n",
       "      <td>0.0</td>\n",
       "      <td>...</td>\n",
       "      <td>0.0</td>\n",
       "      <td>0.0</td>\n",
       "      <td>0.0</td>\n",
       "      <td>0.0</td>\n",
       "      <td>0.0</td>\n",
       "      <td>0.0</td>\n",
       "      <td>0.0</td>\n",
       "      <td>0.0</td>\n",
       "      <td>0.0</td>\n",
       "      <td>4</td>\n",
       "    </tr>\n",
       "    <tr>\n",
       "      <th>3</th>\n",
       "      <td>0.0</td>\n",
       "      <td>0.0</td>\n",
       "      <td>0.0</td>\n",
       "      <td>0.0</td>\n",
       "      <td>0.0</td>\n",
       "      <td>0.0</td>\n",
       "      <td>0.0</td>\n",
       "      <td>0.0</td>\n",
       "      <td>0.0</td>\n",
       "      <td>0.0</td>\n",
       "      <td>...</td>\n",
       "      <td>0.0</td>\n",
       "      <td>0.0</td>\n",
       "      <td>0.0</td>\n",
       "      <td>0.0</td>\n",
       "      <td>0.0</td>\n",
       "      <td>0.0</td>\n",
       "      <td>0.0</td>\n",
       "      <td>0.0</td>\n",
       "      <td>0.0</td>\n",
       "      <td>1</td>\n",
       "    </tr>\n",
       "    <tr>\n",
       "      <th>4</th>\n",
       "      <td>0.0</td>\n",
       "      <td>0.0</td>\n",
       "      <td>0.0</td>\n",
       "      <td>0.0</td>\n",
       "      <td>0.0</td>\n",
       "      <td>0.0</td>\n",
       "      <td>0.0</td>\n",
       "      <td>0.0</td>\n",
       "      <td>0.0</td>\n",
       "      <td>0.0</td>\n",
       "      <td>...</td>\n",
       "      <td>0.0</td>\n",
       "      <td>0.0</td>\n",
       "      <td>0.0</td>\n",
       "      <td>0.0</td>\n",
       "      <td>0.0</td>\n",
       "      <td>0.0</td>\n",
       "      <td>0.0</td>\n",
       "      <td>0.0</td>\n",
       "      <td>0.0</td>\n",
       "      <td>9</td>\n",
       "    </tr>\n",
       "  </tbody>\n",
       "</table>\n",
       "<p>5 rows × 785 columns</p>\n",
       "</div>"
      ],
      "text/plain": [
       "     0    1    2    3    4    5    6    7    8    9  ...  775  776  777  778  \\\n",
       "0  0.0  0.0  0.0  0.0  0.0  0.0  0.0  0.0  0.0  0.0  ...  0.0  0.0  0.0  0.0   \n",
       "1  0.0  0.0  0.0  0.0  0.0  0.0  0.0  0.0  0.0  0.0  ...  0.0  0.0  0.0  0.0   \n",
       "2  0.0  0.0  0.0  0.0  0.0  0.0  0.0  0.0  0.0  0.0  ...  0.0  0.0  0.0  0.0   \n",
       "3  0.0  0.0  0.0  0.0  0.0  0.0  0.0  0.0  0.0  0.0  ...  0.0  0.0  0.0  0.0   \n",
       "4  0.0  0.0  0.0  0.0  0.0  0.0  0.0  0.0  0.0  0.0  ...  0.0  0.0  0.0  0.0   \n",
       "\n",
       "   779  780  781  782  783  labels  \n",
       "0  0.0  0.0  0.0  0.0  0.0       5  \n",
       "1  0.0  0.0  0.0  0.0  0.0       0  \n",
       "2  0.0  0.0  0.0  0.0  0.0       4  \n",
       "3  0.0  0.0  0.0  0.0  0.0       1  \n",
       "4  0.0  0.0  0.0  0.0  0.0       9  \n",
       "\n",
       "[5 rows x 785 columns]"
      ]
     },
     "execution_count": 4,
     "metadata": {},
     "output_type": "execute_result"
    }
   ],
   "source": [
    "df_train = create_df_from_file('train-images-idx3-ubyte.gz', 'train-labels-idx1-ubyte.gz')\n",
    "df_train.head()"
   ]
  },
  {
   "cell_type": "code",
   "execution_count": 5,
   "id": "7d0fc9be",
   "metadata": {},
   "outputs": [
    {
     "data": {
      "image/png": "[encoded data removed]",
      "text/plain": [
       "<Figure size 432x288 with 1 Axes>"
      ]
     },
     "metadata": {
      "needs_background": "light"
     },
     "output_type": "display_data"
    }
   ],
   "source": [
    "show_number(df_train, 0)"
   ]
  },
  {
   "cell_type": "code",
   "execution_count": 6,
   "id": "8c11a859",
   "metadata": {},
   "outputs": [],
   "source": [
    "class NeuralNet():\n",
    "    \n",
    "    def __init__(self, learning_rate=0.1, hidden_layers=[10,], activation_func_name='relu', max_iter=1000, random_state=None, random_dist=\"norm_univariate\", bias_init_zero=False):\n",
    "        self.learning_rate=learning_rate\n",
    "        if len(hidden_layers) < 1:\n",
    "            raise ValueError('Must have at least 1 hidden layer')\n",
    "        self.hidden_layers=hidden_layers\n",
    "        self.activation_func_name=activation_func_name\n",
    "        self.max_iter=max_iter\n",
    "        self.random_state=random_state\n",
    "        self.input_layer_size = -1\n",
    "        self.num_layers = len(hidden_layers) + 2\n",
    "        self.wbs = {}\n",
    "        self.cache = {}\n",
    "        self.activations = {}\n",
    "        self.deltas = {}\n",
    "        self.random_dist = random_dist\n",
    "        self.bias_init_zero = bias_init_zero\n",
    "        self.lrelu_param = 0.1 #tunable if we wanted\n",
    "        \n",
    "        if self.activation_func_name not in ['relu', 'sigmoid', 'lrelu']:\n",
    "            raise ValueError('activation_func_name not valid or recognized')\n",
    "        \n",
    "    def init_params(self, num_features, num_classes):\n",
    "        #Create random number generator based of dictated state\n",
    "        if self.random_state is None:\n",
    "            rng = cp.random.default_rng()\n",
    "        else:\n",
    "            rng = cp.random.default_rng(self.random_state)\n",
    "        \n",
    "        #Determine distribution requested and bias selection and initlaize wbs as appropriate\n",
    "        if self.random_dist == 'norm_univariate':\n",
    "            if self.bias_init_zero == False:\n",
    "                #randomly initiaize weights and biases for hidden layers\n",
    "                i = 1\n",
    "                # activation layer is 0, hidden layer index is 1 below the hidden layer number\n",
    "                self.wbs['W'+str(i)] = rng.random(size=(self.hidden_layers[i - 1],num_features)) - 0.5\n",
    "                self.wbs['b'+str(i)] = rng.random(size=(self.hidden_layers[i - 1], 1)) - 0.5\n",
    "                i += 1\n",
    "                while i <= len(self.hidden_layers):\n",
    "                    self.wbs['W'+str(i)] = rng.random(size=(self.hidden_layers[i - 1],self.hidden_layers[i - 2])) - 0.5\n",
    "                    self.wbs['b'+str(i)] = rng.random(size=(self.hidden_layers[i - 1], 1)) - 0.5\n",
    "                    i += 1\n",
    "                # randomly initalize weights for output layer, with weight size last hidden layers - num_classes\n",
    "                self.wbs['W'+str(i)] = rng.random(size=(num_classes, self.hidden_layers[-1])) - 0.5\n",
    "                self.wbs['b'+str(i)] = rng.random(size=(num_classes, 1)) - 0.5\n",
    "            else:\n",
    "                #randomly initiaize weights and biases for hidden layers\n",
    "                i = 1\n",
    "                # activation layer is 0, hidden layer index is 1 below the hidden layer number\n",
    "                self.wbs['W'+str(i)] = rng.random(size=(self.hidden_layers[i - 1],num_features)) - 0.5\n",
    "                self.wbs['b'+str(i)] = cp.zeros(shape=(self.hidden_layers[i - 1], 1))\n",
    "                i += 1\n",
    "                while i <= len(self.hidden_layers):\n",
    "                    self.wbs['W'+str(i)] = rng.random(size=(self.hidden_layers[i - 1],self.hidden_layers[i - 2])) - 0.5\n",
    "                    self.wbs['b'+str(i)] = cp.zeros(shape=(self.hidden_layers[i - 1], 1))\n",
    "                    i += 1\n",
    "                # randomly initalize weights for output layer, with weight size last hidden layers - num_classes\n",
    "                self.wbs['W'+str(i)] = rng.random(size=(num_classes, self.hidden_layers[-1])) - 0.5\n",
    "                self.wbs['b'+str(i)] = cp.zeros(shape=(num_classes, 1))\n",
    "        elif self.random_dist == 'std_norm':\n",
    "            if self.bias_init_zero == False:\n",
    "                #randomly initiaize weights and biases for hidden layers\n",
    "                i = 1\n",
    "                # activation layer is 0, hidden layer index is 1 below the hidden layer number\n",
    "                self.wbs['W'+str(i)] = rng.standard_normal(size=(self.hidden_layers[i - 1],num_features))\n",
    "                self.wbs['b'+str(i)] = rng.standard_normal(size=(self.hidden_layers[i - 1], 1))\n",
    "                i += 1\n",
    "                while i <= len(self.hidden_layers):\n",
    "                    self.wbs['W'+str(i)] = rng.standard_normal(size=(self.hidden_layers[i - 1],self.hidden_layers[i - 2]))\n",
    "                    self.wbs['b'+str(i)] = rng.standard_normal(size=(self.hidden_layers[i - 1], 1))\n",
    "                    i += 1\n",
    "                # randomly initalize weights for output layer, with weight size last hidden layers - num_classes\n",
    "                self.wbs['W'+str(i)] = rng.standard_normal(size=(num_classes, self.hidden_layers[-1]))\n",
    "                self.wbs['b'+str(i)] = rng.standard_normal(size=(num_classes, 1))\n",
    "            else:\n",
    "                #randomly initiaize weights and biases for hidden layers\n",
    "                i = 1\n",
    "                # activation layer is 0, hidden layer index is 1 below the hidden layer number\n",
    "                self.wbs['W'+str(i)] = rng.standard_normal(size=(self.hidden_layers[i - 1],num_features))\n",
    "                self.wbs['b'+str(i)] = cp.zeros(shape=(self.hidden_layers[i - 1], 1))\n",
    "                i += 1\n",
    "                while i <= len(self.hidden_layers):\n",
    "                    self.wbs['W'+str(i)] = rng.standard_normal(size=(self.hidden_layers[i - 1],self.hidden_layers[i - 2]))\n",
    "                    self.wbs['b'+str(i)] = cp.zeros(shape=(self.hidden_layers[i - 1], 1))\n",
    "                    i += 1\n",
    "                # randomly initalize weights for output layer, with weight size last hidden layers - num_classes\n",
    "                self.wbs['W'+str(i)] = rng.standard_normal(size=(num_classes, self.hidden_layers[-1]))\n",
    "                self.wbs['b'+str(i)] = cp.zeros(shape=(num_classes, 1))\n",
    "        else:\n",
    "            raise ValueError('Please select a valid wbs initalization distribution')\n",
    "\n",
    "    def forward_propagation(self, X):\n",
    "        i = 1\n",
    "        #inital layer, uses raw data as 'activation input'\n",
    "        self.cache['Z'+str(i)] = cp.dot(self.wbs['W'+str(i)], X) + self.wbs['b'+str(i)]\n",
    "        self.activations['A'+str(i)] = self.activation_func(self.cache['Z'+str(i)])\n",
    "        #propagate all data up to end\n",
    "        i += 1\n",
    "        while i <= len(self.hidden_layers):\n",
    "            #store preactivation values\n",
    "            self.cache['Z'+str(i)] = cp.dot(self.wbs['W'+str(i)], self.activations['A'+str(i - 1)]) + self.wbs['b'+str(i)]\n",
    "            self.activations['A'+str(i)] = self.activation_func(self.cache['Z'+str(i)])\n",
    "            i+= 1\n",
    "        \n",
    "        #output layer uses a different activation func\n",
    "        self.cache['Z'+str(i)] = cp.dot(self.wbs['W'+str(i)], self.activations['A'+str(i - 1)]) + self.wbs['b'+str(i)]\n",
    "        self.activations['A'+str(i)] = self.softmax(self.cache['Z'+str(i)])\n",
    "        \n",
    "    def get_one_hot_matrix(self, y):\n",
    "        #use this so we can have a known value to compute cost function: (MSE)\n",
    "        #get an array that matches our output dimensions filled with zeros\n",
    "        retval = cp.zeros((int(y.max())+1,y.size))\n",
    "        #Iterate through the array, setting our labels to 1\n",
    "        retval[y,cp.arange(y.size)] = 1\n",
    "        return retval\n",
    "\n",
    "    def backward_propagation(self, X, y, num_samples):\n",
    "        actual = self.get_one_hot_matrix(y)\n",
    "        #calculate error for output layer\n",
    "        i = len(self.hidden_layers) + 1\n",
    "        #this is a simplified result of the chain rule using softmax only on the output\n",
    "        self.deltas['dz'+str(i)] = 2*(self.activations['A'+str(i)] - actual)\n",
    "        self.deltas['dw'+str(i)] = (1/num_samples) * (cp.matmul(self.deltas['dz'+str(i)], self.activations['A'+str(i-1)].T))\n",
    "        self.deltas['db'+str(i)] = (1/num_samples) * (cp.sum(self.deltas['dz'+str(i)], axis=1))\n",
    "        i -= 1\n",
    "        #propagate error backward\n",
    "        while i > 1:\n",
    "            self.deltas['dz'+str(i)] = cp.dot(self.wbs['W'+str(i+1)].T, self.deltas['dz'+str(i+1)]) * self.derivative_func(self.cache['Z'+str(i)])\n",
    "            self.deltas['dw'+str(i)] = (1/num_samples) * (cp.dot(self.deltas['dz'+str(i)], self.activations['A'+str(i-1)].T))\n",
    "            self.deltas['db'+str(i)] = (1/num_samples) * cp.sum(self.deltas['dz'+str(i)], axis=1)\n",
    "            i -= 1\n",
    "        \n",
    "        #input layer backprop, need original data at this step\n",
    "        self.deltas['dz'+str(i)] = cp.dot(self.wbs['W'+str(i+1)].T, self.deltas['dz'+str(i+1)]) * self.derivative_func(self.cache['Z'+str(i)])\n",
    "        self.deltas['dw'+str(i)] = (1/num_samples) * (cp.dot(self.deltas['dz'+str(i)], X.T))\n",
    "        self.deltas['db'+str(i)] = (1/num_samples) * (cp.sum(self.deltas['dz'+str(i)], axis=1))\n",
    "\n",
    "    def update_wbs(self):\n",
    "        i = 1\n",
    "        while i <= len(self.hidden_layers) + 1:\n",
    "            self.wbs['W'+str(i)] = self.wbs['W'+str(i)] - self.learning_rate * self.deltas['dw'+str(i)]\n",
    "            self.wbs['b'+str(i)] = self.wbs['b'+str(i)] - self.learning_rate * cp.reshape(self.deltas['db'+str(i)], (self.wbs['b'+str(i)].shape[-2],1))\n",
    "            i += 1\n",
    "\n",
    "        return\n",
    "    \n",
    "    def fit(self, X, y):\n",
    "        self.init_params(X.shape[-2], len(np.unique(y)))\n",
    "        self.gd(X, y)\n",
    "        \n",
    "    def gd(self, X, y):\n",
    "        for i in range(self.max_iter):\n",
    "            self.forward_propagation(X)\n",
    "            self.backward_propagation(X, y, X.shape[-1])\n",
    "            self.update_wbs()\n",
    "            \n",
    "    def predict(self, X):\n",
    "        self.forward_propagation(X)\n",
    "        return np.argmax(self.activations['A'+str(len(self.hidden_layers) + 1)], axis=0)\n",
    " \n",
    "    def activation_func(self, vector):\n",
    "        if self.activation_func_name == 'relu':\n",
    "            return self.relu(vector)\n",
    "        if self.activation_func_name == 'sigmoid':\n",
    "            return self.sigmoid(vector)\n",
    "        if self.activation_func_name == 'lrelu':\n",
    "            return self.lrelu(vector)\n",
    "        \n",
    "    def derivative_func(self, vector):\n",
    "        if self.activation_func_name == 'relu':\n",
    "            return self.d_relu(vector)\n",
    "        elif self.activation_func_name == 'sigmoid':\n",
    "            return self.d_sigmoid(vector)\n",
    "        elif self.activation_func_name == 'lrelu':\n",
    "            return self.d_lrelu(vector)\n",
    "        \n",
    "    def relu(self, vector):\n",
    "        return np.maximum(0, vector)\n",
    "    \n",
    "    def d_relu(self, vector):\n",
    "        return vector > 0\n",
    "\n",
    "    def softmax(self, vector):\n",
    "        retval = cp.exp(vector - cp.max(vector))\n",
    "        return retval / retval.sum(axis=0)\n",
    "    \n",
    "    def d_sigmoid(self, vector):\n",
    "        s = self.sigmoid(vector)\n",
    "        return s * (1 - s)\n",
    "    \n",
    "    def sigmoid(self, vector):\n",
    "        return cp.exp(vector) / (1 + cp.exp(vector))\n",
    "    \n",
    "    def lrelu(self, vector):\n",
    "        return cp.maximum(self.lrelu_param * vector, vector)\n",
    "    \n",
    "    def d_lrelu(self, vector):\n",
    "        retval = cp.ones_like(vector)\n",
    "        retval[vector < 0] = self.lrelu_param\n",
    "        return retval\n",
    "    "
   ]
  },
  {
   "cell_type": "code",
   "execution_count": 7,
   "id": "1098bdd6",
   "metadata": {},
   "outputs": [],
   "source": [
    "X_train = cp.asarray(df_train.drop('labels', axis=1).T)\n",
    "y_train = cp.asarray(df_train['labels'])"
   ]
  },
  {
   "cell_type": "code",
   "execution_count": 8,
   "id": "fb3e176c",
   "metadata": {},
   "outputs": [],
   "source": [
    "X_test = cp.asarray(df_test.drop('labels', axis=1).T)"
   ]
  },
  {
   "cell_type": "code",
   "execution_count": 9,
   "id": "db91fb46",
   "metadata": {},
   "outputs": [],
   "source": [
    "def accuracy_score(df, class_label, predictions_label):\n",
    "    return len(df[df[class_label] == df[predictions_label]]) / len(df)"
   ]
  },
  {
   "cell_type": "code",
   "execution_count": 10,
   "id": "d08bfd6a",
   "metadata": {},
   "outputs": [],
   "source": [
    "ntest = NeuralNet(learning_rate=0.1, max_iter=500, random_state=3, hidden_layers=[10])\n",
    "ntest.fit(X_train, y_train)"
   ]
  },
  {
   "cell_type": "code",
   "execution_count": 11,
   "id": "9a33f5a9",
   "metadata": {},
   "outputs": [
    {
     "data": {
      "text/plain": [
       "0.8861"
      ]
     },
     "execution_count": 11,
     "metadata": {},
     "output_type": "execute_result"
    }
   ],
   "source": [
    "predictions = ntest.predict(X_test)\n",
    "df_test['predictions'] = cp.asnumpy(predictions)\n",
    "accuracy_score(df_test, 'labels', 'predictions')"
   ]
  },
  {
   "cell_type": "code",
   "execution_count": 12,
   "id": "458f19be",
   "metadata": {},
   "outputs": [],
   "source": [
    "ntest = NeuralNet(learning_rate=0.1, max_iter=500, random_state=3, hidden_layers=[15])\n",
    "ntest.fit(X_train, y_train)"
   ]
  },
  {
   "cell_type": "code",
   "execution_count": 13,
   "id": "322d4792",
   "metadata": {},
   "outputs": [],
   "source": [
    "X_test = df_test.drop('labels', axis=1)\n",
    "X_test = cp.asarray(X_test.drop('predictions', axis = 1).T)"
   ]
  },
  {
   "cell_type": "code",
   "execution_count": 14,
   "id": "ca66c509",
   "metadata": {},
   "outputs": [
    {
     "data": {
      "text/plain": [
       "0.8999"
      ]
     },
     "execution_count": 14,
     "metadata": {},
     "output_type": "execute_result"
    }
   ],
   "source": [
    "predictions = ntest.predict(X_test)\n",
    "df_test['predictions'] = cp.asnumpy(predictions)\n",
    "accuracy_score(df_test, 'labels', 'predictions')"
   ]
  },
  {
   "cell_type": "code",
   "execution_count": 15,
   "id": "fdd3b39a",
   "metadata": {},
   "outputs": [],
   "source": [
    "ntest = NeuralNet(learning_rate=0.1, max_iter=500, random_state=3, hidden_layers=[15], bias_init_zero=True)\n",
    "ntest.fit(X_train, y_train)"
   ]
  },
  {
   "cell_type": "code",
   "execution_count": 16,
   "id": "9204d708",
   "metadata": {},
   "outputs": [],
   "source": [
    "X_test = df_test.drop('labels', axis=1)\n",
    "X_test = cp.asarray(X_test.drop('predictions', axis = 1).T)"
   ]
  },
  {
   "cell_type": "code",
   "execution_count": 17,
   "id": "13777fe5",
   "metadata": {},
   "outputs": [
    {
     "data": {
      "text/plain": [
       "0.8956"
      ]
     },
     "execution_count": 17,
     "metadata": {},
     "output_type": "execute_result"
    }
   ],
   "source": [
    "predictions = ntest.predict(X_test)\n",
    "df_test['predictions'] = cp.asnumpy(predictions)\n",
    "accuracy_score(df_test, 'labels', 'predictions')"
   ]
  },
  {
   "cell_type": "code",
   "execution_count": 18,
   "id": "598e63e0",
   "metadata": {},
   "outputs": [],
   "source": [
    "ntest = NeuralNet(learning_rate=0.1, max_iter=500, random_state=3, hidden_layers=[15], random_dist=\"std_norm\", bias_init_zero=True)\n",
    "ntest.fit(X_train, y_train)"
   ]
  },
  {
   "cell_type": "code",
   "execution_count": 19,
   "id": "0d2ce1d5",
   "metadata": {},
   "outputs": [],
   "source": [
    "X_test = df_test.drop('labels', axis=1)\n",
    "X_test = cp.asarray(X_test.drop('predictions', axis = 1).T)"
   ]
  },
  {
   "cell_type": "code",
   "execution_count": 20,
   "id": "35945519",
   "metadata": {},
   "outputs": [
    {
     "data": {
      "text/plain": [
       "0.6313"
      ]
     },
     "execution_count": 20,
     "metadata": {},
     "output_type": "execute_result"
    }
   ],
   "source": [
    "predictions = ntest.predict(X_test)\n",
    "df_test['predictions'] = cp.asnumpy(predictions)\n",
    "accuracy_score(df_test, 'labels', 'predictions')"
   ]
  },
  {
   "cell_type": "code",
   "execution_count": 21,
   "id": "1592d3a8",
   "metadata": {},
   "outputs": [],
   "source": [
    "ntest = NeuralNet(learning_rate=0.1, max_iter=500, random_state=3, hidden_layers=[15], random_dist=\"std_norm\")\n",
    "ntest.fit(X_train, y_train)"
   ]
  },
  {
   "cell_type": "code",
   "execution_count": 22,
   "id": "a2b6ec2b",
   "metadata": {},
   "outputs": [],
   "source": [
    "X_test = df_test.drop('labels', axis=1)\n",
    "X_test = cp.asarray(X_test.drop('predictions', axis = 1).T)"
   ]
  },
  {
   "cell_type": "code",
   "execution_count": 23,
   "id": "9797476c",
   "metadata": {},
   "outputs": [
    {
     "data": {
      "text/plain": [
       "0.6639"
      ]
     },
     "execution_count": 23,
     "metadata": {},
     "output_type": "execute_result"
    }
   ],
   "source": [
    "predictions = ntest.predict(X_test)\n",
    "df_test['predictions'] = cp.asnumpy(predictions)\n",
    "accuracy_score(df_test, 'labels', 'predictions')"
   ]
  },
  {
   "cell_type": "code",
   "execution_count": 24,
   "id": "7388d0b8",
   "metadata": {},
   "outputs": [],
   "source": [
    "ntest = NeuralNet(learning_rate=0.1, max_iter=1500, random_state=3, hidden_layers=[15], random_dist=\"std_norm\",bias_init_zero=True )\n",
    "ntest.fit(X_train, y_train)"
   ]
  },
  {
   "cell_type": "code",
   "execution_count": 25,
   "id": "f8f04621",
   "metadata": {},
   "outputs": [],
   "source": [
    "X_test = df_test.drop('labels', axis=1)\n",
    "X_test = cp.asarray(X_test.drop('predictions', axis = 1).T)"
   ]
  },
  {
   "cell_type": "code",
   "execution_count": 26,
   "id": "7ac13a28",
   "metadata": {},
   "outputs": [
    {
     "data": {
      "text/plain": [
       "0.7817"
      ]
     },
     "execution_count": 26,
     "metadata": {},
     "output_type": "execute_result"
    }
   ],
   "source": [
    "predictions = ntest.predict(X_test)\n",
    "df_test['predictions'] = cp.asnumpy(predictions)\n",
    "accuracy_score(df_test, 'labels', 'predictions')"
   ]
  },
  {
   "cell_type": "code",
   "execution_count": 27,
   "id": "34a3e4b8",
   "metadata": {},
   "outputs": [],
   "source": [
    "ntest = NeuralNet(learning_rate=0.1, max_iter=500, random_state=3, hidden_layers=[20])\n",
    "ntest.fit(X_train, y_train)"
   ]
  },
  {
   "cell_type": "code",
   "execution_count": 28,
   "id": "8873fc59",
   "metadata": {},
   "outputs": [],
   "source": [
    "X_test = df_test.drop('labels', axis=1)\n",
    "X_test = cp.asarray(X_test.drop('predictions', axis = 1).T)"
   ]
  },
  {
   "cell_type": "code",
   "execution_count": 29,
   "id": "600a0c2d",
   "metadata": {},
   "outputs": [
    {
     "data": {
      "text/plain": [
       "0.9058"
      ]
     },
     "execution_count": 29,
     "metadata": {},
     "output_type": "execute_result"
    }
   ],
   "source": [
    "predictions = ntest.predict(X_test)\n",
    "df_test['predictions'] = cp.asnumpy(predictions)\n",
    "accuracy_score(df_test, 'labels', 'predictions')"
   ]
  },
  {
   "cell_type": "code",
   "execution_count": 30,
   "id": "d3913478",
   "metadata": {},
   "outputs": [],
   "source": [
    "ntest = NeuralNet(learning_rate=0.1, max_iter=500, random_state=3, hidden_layers=[10,10])\n",
    "ntest.fit(X_train, y_train)"
   ]
  },
  {
   "cell_type": "code",
   "execution_count": 31,
   "id": "1a6abfb2",
   "metadata": {},
   "outputs": [],
   "source": [
    "X_test = df_test.drop('labels', axis=1)\n",
    "X_test = cp.asarray(X_test.drop('predictions', axis = 1).T)"
   ]
  },
  {
   "cell_type": "code",
   "execution_count": 32,
   "id": "18d962ca",
   "metadata": {},
   "outputs": [
    {
     "data": {
      "text/plain": [
       "0.8753"
      ]
     },
     "execution_count": 32,
     "metadata": {},
     "output_type": "execute_result"
    }
   ],
   "source": [
    "predictions = ntest.predict(X_test)\n",
    "df_test['predictions'] = cp.asnumpy(predictions)\n",
    "accuracy_score(df_test, 'labels', 'predictions')"
   ]
  },
  {
   "cell_type": "code",
   "execution_count": 33,
   "id": "4d98efc0",
   "metadata": {},
   "outputs": [],
   "source": [
    "ntest = NeuralNet(learning_rate=0.1, max_iter=500, random_state=3, hidden_layers=[20,20])\n",
    "ntest.fit(X_train, y_train)"
   ]
  },
  {
   "cell_type": "code",
   "execution_count": 34,
   "id": "4d7cee72",
   "metadata": {},
   "outputs": [],
   "source": [
    "X_test = df_test.drop('labels', axis=1)\n",
    "X_test = cp.asarray(X_test.drop('predictions', axis = 1).T)"
   ]
  },
  {
   "cell_type": "code",
   "execution_count": 35,
   "id": "230c5922",
   "metadata": {},
   "outputs": [
    {
     "data": {
      "text/plain": [
       "0.902"
      ]
     },
     "execution_count": 35,
     "metadata": {},
     "output_type": "execute_result"
    }
   ],
   "source": [
    "predictions = ntest.predict(X_test)\n",
    "df_test['predictions'] = cp.asnumpy(predictions)\n",
    "accuracy_score(df_test, 'labels', 'predictions')"
   ]
  },
  {
   "cell_type": "code",
   "execution_count": 36,
   "id": "55380d24",
   "metadata": {},
   "outputs": [],
   "source": [
    "ntest = NeuralNet(learning_rate=0.05, max_iter=1000, random_state=3, hidden_layers=[20,20,20])\n",
    "ntest.fit(X_train, y_train)"
   ]
  },
  {
   "cell_type": "code",
   "execution_count": 37,
   "id": "b72d06b6",
   "metadata": {},
   "outputs": [],
   "source": [
    "X_test = df_test.drop('labels', axis=1)\n",
    "X_test = cp.asarray(X_test.drop('predictions', axis = 1).T)"
   ]
  },
  {
   "cell_type": "code",
   "execution_count": 38,
   "id": "0a8b1e4e",
   "metadata": {},
   "outputs": [
    {
     "data": {
      "text/plain": [
       "0.9156"
      ]
     },
     "execution_count": 38,
     "metadata": {},
     "output_type": "execute_result"
    }
   ],
   "source": [
    "predictions = ntest.predict(X_test)\n",
    "df_test['predictions'] = cp.asnumpy(predictions)\n",
    "accuracy_score(df_test, 'labels', 'predictions')"
   ]
  },
  {
   "cell_type": "code",
   "execution_count": 39,
   "id": "08afe6eb",
   "metadata": {},
   "outputs": [],
   "source": [
    "ntest = NeuralNet(learning_rate=0.15, max_iter=500, random_state=3, hidden_layers=[20,20,20])\n",
    "ntest.fit(X_train, y_train)"
   ]
  },
  {
   "cell_type": "code",
   "execution_count": 40,
   "id": "56cf89cf",
   "metadata": {},
   "outputs": [],
   "source": [
    "X_test = df_test.drop('labels', axis=1)\n",
    "X_test = cp.asarray(X_test.drop('predictions', axis = 1).T)"
   ]
  },
  {
   "cell_type": "code",
   "execution_count": 41,
   "id": "6fa3219f",
   "metadata": {},
   "outputs": [
    {
     "data": {
      "text/plain": [
       "0.9259"
      ]
     },
     "execution_count": 41,
     "metadata": {},
     "output_type": "execute_result"
    }
   ],
   "source": [
    "predictions = ntest.predict(X_test)\n",
    "df_test['predictions'] = cp.asnumpy(predictions)\n",
    "accuracy_score(df_test, 'labels', 'predictions')"
   ]
  },
  {
   "cell_type": "code",
   "execution_count": 42,
   "id": "e543ceb4",
   "metadata": {},
   "outputs": [],
   "source": [
    "ntest = NeuralNet(learning_rate=0.1, max_iter=500, random_state=3, hidden_layers=[20,20,20])\n",
    "ntest.fit(X_train, y_train)"
   ]
  },
  {
   "cell_type": "code",
   "execution_count": 43,
   "id": "24bb294f",
   "metadata": {},
   "outputs": [],
   "source": [
    "X_test = df_test.drop('labels', axis=1)\n",
    "X_test = cp.asarray(X_test.drop('predictions', axis = 1).T)"
   ]
  },
  {
   "cell_type": "code",
   "execution_count": 44,
   "id": "1eedba83",
   "metadata": {},
   "outputs": [
    {
     "data": {
      "text/plain": [
       "0.9088"
      ]
     },
     "execution_count": 44,
     "metadata": {},
     "output_type": "execute_result"
    }
   ],
   "source": [
    "predictions = ntest.predict(X_test)\n",
    "df_test['predictions'] = cp.asnumpy(predictions)\n",
    "accuracy_score(df_test, 'labels', 'predictions')"
   ]
  },
  {
   "cell_type": "code",
   "execution_count": 45,
   "id": "307b7ed6",
   "metadata": {},
   "outputs": [],
   "source": [
    "ntest = NeuralNet(learning_rate=0.1, max_iter=500, random_state=5, hidden_layers=[20,20])\n",
    "ntest.fit(X_train, y_train)"
   ]
  },
  {
   "cell_type": "code",
   "execution_count": 46,
   "id": "800caa35",
   "metadata": {},
   "outputs": [],
   "source": [
    "X_test = df_test.drop('labels', axis=1)\n",
    "X_test = cp.asarray(X_test.drop('predictions', axis = 1).T)"
   ]
  },
  {
   "cell_type": "code",
   "execution_count": 47,
   "id": "a1cdbc7b",
   "metadata": {},
   "outputs": [
    {
     "data": {
      "text/plain": [
       "0.8978"
      ]
     },
     "execution_count": 47,
     "metadata": {},
     "output_type": "execute_result"
    }
   ],
   "source": [
    "predictions = ntest.predict(X_test)\n",
    "df_test['predictions'] = cp.asnumpy(predictions)\n",
    "accuracy_score(df_test, 'labels', 'predictions')"
   ]
  },
  {
   "cell_type": "code",
   "execution_count": 48,
   "id": "0dfbb0a9",
   "metadata": {},
   "outputs": [],
   "source": [
    "ntest = NeuralNet(learning_rate=0.1, max_iter=500, random_state=5, hidden_layers=[20,20], activation_func_name='sigmoid')\n",
    "ntest.fit(X_train, y_train)"
   ]
  },
  {
   "cell_type": "code",
   "execution_count": 49,
   "id": "f04930bb",
   "metadata": {},
   "outputs": [],
   "source": [
    "X_test = df_test.drop('labels', axis=1)\n",
    "X_test = cp.asarray(X_test.drop('predictions', axis = 1).T)"
   ]
  },
  {
   "cell_type": "code",
   "execution_count": 50,
   "id": "5974d40b",
   "metadata": {},
   "outputs": [
    {
     "data": {
      "text/plain": [
       "0.7416"
      ]
     },
     "execution_count": 50,
     "metadata": {},
     "output_type": "execute_result"
    }
   ],
   "source": [
    "predictions = ntest.predict(X_test)\n",
    "df_test['predictions'] = cp.asnumpy(predictions)\n",
    "accuracy_score(df_test, 'labels', 'predictions')"
   ]
  },
  {
   "cell_type": "code",
   "execution_count": 51,
   "id": "b9eccbd1",
   "metadata": {},
   "outputs": [],
   "source": [
    "ntest = NeuralNet(learning_rate=0.1, max_iter=500, random_state=5, hidden_layers=[20,20], activation_func_name='lrelu')\n",
    "ntest.fit(X_train, y_train)"
   ]
  },
  {
   "cell_type": "code",
   "execution_count": 52,
   "id": "7e240937",
   "metadata": {},
   "outputs": [],
   "source": [
    "X_test = df_test.drop('labels', axis=1)\n",
    "X_test = cp.asarray(X_test.drop('predictions', axis = 1).T)"
   ]
  },
  {
   "cell_type": "code",
   "execution_count": 53,
   "id": "7e892168",
   "metadata": {},
   "outputs": [
    {
     "data": {
      "text/plain": [
       "0.9076"
      ]
     },
     "execution_count": 53,
     "metadata": {},
     "output_type": "execute_result"
    }
   ],
   "source": [
    "predictions = ntest.predict(X_test)\n",
    "df_test['predictions'] = cp.asnumpy(predictions)\n",
    "accuracy_score(df_test, 'labels', 'predictions')"
   ]
  },
  {
   "cell_type": "code",
   "execution_count": 54,
   "id": "a559e664",
   "metadata": {},
   "outputs": [],
   "source": [
    "from sklearn import svm"
   ]
  },
  {
   "cell_type": "code",
   "execution_count": 57,
   "id": "74566b5f",
   "metadata": {},
   "outputs": [],
   "source": [
    "svm_model = svm.SVC() #uses rbf by default, which is what I want"
   ]
  },
  {
   "cell_type": "code",
   "execution_count": 62,
   "id": "f07c26a2",
   "metadata": {},
   "outputs": [],
   "source": [
    "X_train = df_train.drop('labels', axis=1).T\n",
    "y_train = df_train['labels']"
   ]
  },
  {
   "cell_type": "code",
   "execution_count": 63,
   "id": "cd3c81b3",
   "metadata": {},
   "outputs": [
    {
     "data": {
      "text/plain": [
       "SVC()"
      ]
     },
     "execution_count": 63,
     "metadata": {},
     "output_type": "execute_result"
    }
   ],
   "source": [
    "svm_model.fit(X_train.T, y_train)"
   ]
  },
  {
   "cell_type": "code",
   "execution_count": 64,
   "id": "9128b533",
   "metadata": {},
   "outputs": [],
   "source": [
    "X_test = df_test.drop('labels', axis=1)\n",
    "X_test = X_test.drop('predictions', axis = 1).T"
   ]
  },
  {
   "cell_type": "code",
   "execution_count": 65,
   "id": "5262ff08",
   "metadata": {},
   "outputs": [
    {
     "data": {
      "text/plain": [
       "0.9792"
      ]
     },
     "execution_count": 65,
     "metadata": {},
     "output_type": "execute_result"
    }
   ],
   "source": [
    "predictions = svm_model.predict(X_test.T)\n",
    "df_test['predictions'] = predictions\n",
    "accuracy_score(df_test, 'labels', 'predictions')"
   ]
  },
  {
   "cell_type": "code",
   "execution_count": 66,
   "id": "02a182f8",
   "metadata": {},
   "outputs": [],
   "source": [
    "from sklearn.linear_model import LogisticRegression"
   ]
  },
  {
   "cell_type": "code",
   "execution_count": 67,
   "id": "c5bf172d",
   "metadata": {},
   "outputs": [],
   "source": [
    "model_logit = LogisticRegression(max_iter=10000)"
   ]
  },
  {
   "cell_type": "code",
   "execution_count": 68,
   "id": "af19045c",
   "metadata": {},
   "outputs": [
    {
     "data": {
      "text/plain": [
       "LogisticRegression(max_iter=10000)"
      ]
     },
     "execution_count": 68,
     "metadata": {},
     "output_type": "execute_result"
    }
   ],
   "source": [
    "model_logit.fit(X_train.T, y_train)#oh wow, so fast"
   ]
  },
  {
   "cell_type": "code",
   "execution_count": 69,
   "id": "170adbb4",
   "metadata": {},
   "outputs": [],
   "source": [
    "X_test = df_test.drop('labels', axis=1)\n",
    "X_test = X_test.drop('predictions', axis = 1).T"
   ]
  },
  {
   "cell_type": "code",
   "execution_count": 70,
   "id": "3b0969fb",
   "metadata": {},
   "outputs": [
    {
     "data": {
      "text/plain": [
       "0.9256"
      ]
     },
     "execution_count": 70,
     "metadata": {},
     "output_type": "execute_result"
    }
   ],
   "source": [
    "predictions = model_logit.predict(X_test.T)\n",
    "df_test['predictions'] = predictions\n",
    "accuracy_score(df_test, 'labels', 'predictions')"
   ]
  },
  {
   "cell_type": "code",
   "execution_count": 71,
   "id": "a877728a",
   "metadata": {},
   "outputs": [],
   "source": [
    "X_train = cp.asarray(df_train.drop('labels', axis=1).T)\n",
    "y_train = cp.asarray(df_train['labels'])"
   ]
  },
  {
   "cell_type": "code",
   "execution_count": 73,
   "id": "607be617",
   "metadata": {},
   "outputs": [],
   "source": [
    "ntest = NeuralNet(learning_rate=0.1, max_iter=5000, random_state=3, hidden_layers=[90,60,40], activation_func_name='lrelu', bias_init_zero=True)\n",
    "ntest.fit(X_train, y_train)"
   ]
  },
  {
   "cell_type": "code",
   "execution_count": 74,
   "id": "76f5e0e5",
   "metadata": {},
   "outputs": [],
   "source": [
    "X_test = df_test.drop('labels', axis=1)\n",
    "X_test = cp.asarray(X_test.drop('predictions', axis = 1).T)"
   ]
  },
  {
   "cell_type": "code",
   "execution_count": 75,
   "id": "d11d9c65",
   "metadata": {},
   "outputs": [
    {
     "data": {
      "text/plain": [
       "0.9589"
      ]
     },
     "execution_count": 75,
     "metadata": {},
     "output_type": "execute_result"
    }
   ],
   "source": [
    "predictions = ntest.predict(X_test)\n",
    "df_test['predictions'] = cp.asnumpy(predictions)\n",
    "accuracy_score(df_test, 'labels', 'predictions')"
   ]
  },
  {
   "cell_type": "code",
   "execution_count": null,
   "id": "2e78e082",
   "metadata": {},
   "outputs": [],
   "source": []
  }
 ],
 "metadata": {
  "kernelspec": {
   "display_name": "Python 3 (ipykernel)",
   "language": "python",
   "name": "python3"
  },
  "language_info": {
   "codemirror_mode": {
    "name": "ipython",
    "version": 3
   },
   "file_extension": ".py",
   "mimetype": "text/x-python",
   "name": "python",
   "nbconvert_exporter": "python",
   "pygments_lexer": "ipython3",
   "version": "3.9.12"
  }
 },
 "nbformat": 4,
 "nbformat_minor": 5
}
